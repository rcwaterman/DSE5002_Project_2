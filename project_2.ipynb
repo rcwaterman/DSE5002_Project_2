{
 "cells": [
  {
   "cell_type": "markdown",
   "id": "6eb79346",
   "metadata": {},
   "source": [
    "# DSE5002 Project 2\n",
    "### Ryan Waterman"
   ]
  },
  {
   "cell_type": "markdown",
   "id": "fa7c89e7",
   "metadata": {},
   "source": [
    "#### Import Libraries (Part 2.b)"
   ]
  },
  {
   "cell_type": "code",
   "execution_count": 1,
   "id": "0f1df7d5",
   "metadata": {},
   "outputs": [],
   "source": [
    "from project_functions.connect import Connect\n",
    "from project_functions.query import Query\n",
    "from project_functions.transaction import Transaction\n",
    "from project_functions.db_manager import DBManager\n",
    "import os"
   ]
  },
  {
   "cell_type": "markdown",
   "id": "3f11c9c8",
   "metadata": {},
   "source": [
    "#### Test Connection (Part 2.d)\n",
    "\n",
    "Testing the connection with Pat's user information from the vault file:"
   ]
  },
  {
   "cell_type": "code",
   "execution_count": 2,
   "id": "14f72413",
   "metadata": {},
   "outputs": [
    {
     "name": "stdout",
     "output_type": "stream",
     "text": [
      "User: Pat successfully connected to bank!\n"
     ]
    }
   ],
   "source": [
    "test_conn = Connect()\n",
    "\n",
    "path = os.path.join(os.getcwd(), r'data\\vault.txt')\n",
    "\n",
    "engine = test_conn.connect(path)"
   ]
  },
  {
   "cell_type": "code",
   "execution_count": 3,
   "id": "10708d8c",
   "metadata": {},
   "outputs": [
    {
     "data": {
      "text/html": [
       "<div>\n",
       "<style scoped>\n",
       "    .dataframe tbody tr th:only-of-type {\n",
       "        vertical-align: middle;\n",
       "    }\n",
       "\n",
       "    .dataframe tbody tr th {\n",
       "        vertical-align: top;\n",
       "    }\n",
       "\n",
       "    .dataframe thead th {\n",
       "        text-align: right;\n",
       "    }\n",
       "</style>\n",
       "<table border=\"1\" class=\"dataframe\">\n",
       "  <thead>\n",
       "    <tr style=\"text-align: right;\">\n",
       "      <th></th>\n",
       "      <th>dept_id</th>\n",
       "      <th>name</th>\n",
       "      <th>trial104</th>\n",
       "    </tr>\n",
       "  </thead>\n",
       "  <tbody>\n",
       "    <tr>\n",
       "      <th>0</th>\n",
       "      <td>1</td>\n",
       "      <td>Operations</td>\n",
       "      <td>T</td>\n",
       "    </tr>\n",
       "    <tr>\n",
       "      <th>1</th>\n",
       "      <td>2</td>\n",
       "      <td>Loans</td>\n",
       "      <td>T</td>\n",
       "    </tr>\n",
       "    <tr>\n",
       "      <th>2</th>\n",
       "      <td>3</td>\n",
       "      <td>Administration</td>\n",
       "      <td>T</td>\n",
       "    </tr>\n",
       "  </tbody>\n",
       "</table>\n",
       "</div>"
      ],
      "text/plain": [
       "   dept_id            name trial104\n",
       "0        1      Operations        T\n",
       "1        2           Loans        T\n",
       "2        3  Administration        T"
      ]
     },
     "execution_count": 3,
     "metadata": {},
     "output_type": "execute_result"
    }
   ],
   "source": [
    "test_query = Query(test_conn)\n",
    "\n",
    "test_query.read_query(\"\"\"\n",
    "                        SELECT * \n",
    "                        FROM department\n",
    "                    \"\"\"\n",
    "                    )"
   ]
  },
  {
   "cell_type": "markdown",
   "id": "93f9b214",
   "metadata": {},
   "source": [
    "#### Test Invalid Connection (Part 2.e)\n",
    "\n",
    "Trying an invalid vault file name:"
   ]
  },
  {
   "cell_type": "code",
   "execution_count": 4,
   "id": "a3f7a865",
   "metadata": {},
   "outputs": [
    {
     "name": "stdout",
     "output_type": "stream",
     "text": [
      "Error: [Errno 2] No such file or directory: 'c:\\\\Users\\\\water\\\\OneDrive\\\\GradSchool\\\\DSE5002_Project_2\\\\data\\\\vault1.txt'\n"
     ]
    }
   ],
   "source": [
    "test_conn_invalid_vault = Connect()\n",
    "\n",
    "invalid_path = os.path.join(os.getcwd(), r'data\\vault1.txt')\n",
    "\n",
    "engine = test_conn_invalid_vault.connect(invalid_path)"
   ]
  },
  {
   "cell_type": "markdown",
   "id": "4ab7e561",
   "metadata": {},
   "source": [
    "#### Testing Transaction Database Connection (Part 3)"
   ]
  },
  {
   "cell_type": "code",
   "execution_count": 5,
   "id": "66728aa9",
   "metadata": {},
   "outputs": [
    {
     "data": {
      "text/html": [
       "<div>\n",
       "<style scoped>\n",
       "    .dataframe tbody tr th:only-of-type {\n",
       "        vertical-align: middle;\n",
       "    }\n",
       "\n",
       "    .dataframe tbody tr th {\n",
       "        vertical-align: top;\n",
       "    }\n",
       "\n",
       "    .dataframe thead th {\n",
       "        text-align: right;\n",
       "    }\n",
       "</style>\n",
       "<table border=\"1\" class=\"dataframe\">\n",
       "  <thead>\n",
       "    <tr style=\"text-align: right;\">\n",
       "      <th></th>\n",
       "      <th>txn_id</th>\n",
       "      <th>txn_date</th>\n",
       "      <th>txn_type_cd</th>\n",
       "      <th>amount</th>\n",
       "      <th>teller_emp_id</th>\n",
       "      <th>execution_branch_id</th>\n",
       "      <th>funds_avail_date</th>\n",
       "      <th>trial104</th>\n",
       "    </tr>\n",
       "  </thead>\n",
       "  <tbody>\n",
       "    <tr>\n",
       "      <th>0</th>\n",
       "      <td>1</td>\n",
       "      <td>2000-01-15</td>\n",
       "      <td>CDT</td>\n",
       "      <td>100.0</td>\n",
       "      <td>None</td>\n",
       "      <td>None</td>\n",
       "      <td>2000-01-15</td>\n",
       "      <td>T</td>\n",
       "    </tr>\n",
       "    <tr>\n",
       "      <th>1</th>\n",
       "      <td>2</td>\n",
       "      <td>2000-01-15</td>\n",
       "      <td>CDT</td>\n",
       "      <td>100.0</td>\n",
       "      <td>None</td>\n",
       "      <td>None</td>\n",
       "      <td>2000-01-15</td>\n",
       "      <td>T</td>\n",
       "    </tr>\n",
       "    <tr>\n",
       "      <th>2</th>\n",
       "      <td>9</td>\n",
       "      <td>2000-01-15</td>\n",
       "      <td>CDT</td>\n",
       "      <td>100.0</td>\n",
       "      <td>None</td>\n",
       "      <td>None</td>\n",
       "      <td>2000-01-15</td>\n",
       "      <td>T</td>\n",
       "    </tr>\n",
       "  </tbody>\n",
       "</table>\n",
       "</div>"
      ],
      "text/plain": [
       "   txn_id   txn_date txn_type_cd  amount teller_emp_id execution_branch_id  \\\n",
       "0       1 2000-01-15         CDT   100.0          None                None   \n",
       "1       2 2000-01-15         CDT   100.0          None                None   \n",
       "2       9 2000-01-15         CDT   100.0          None                None   \n",
       "\n",
       "  funds_avail_date trial104  \n",
       "0       2000-01-15        T  \n",
       "1       2000-01-15        T  \n",
       "2       2000-01-15        T  "
      ]
     },
     "execution_count": 5,
     "metadata": {},
     "output_type": "execute_result"
    }
   ],
   "source": [
    "test_transaction = Transaction(test_conn)\n",
    "test_transaction.retreive_transactions('01','2000')"
   ]
  },
  {
   "cell_type": "code",
   "execution_count": 6,
   "id": "be337f6b",
   "metadata": {},
   "outputs": [
    {
     "name": "stdout",
     "output_type": "stream",
     "text": [
      "Error: The entered date is invalid.\n"
     ]
    },
    {
     "data": {
      "text/html": [
       "<div>\n",
       "<style scoped>\n",
       "    .dataframe tbody tr th:only-of-type {\n",
       "        vertical-align: middle;\n",
       "    }\n",
       "\n",
       "    .dataframe tbody tr th {\n",
       "        vertical-align: top;\n",
       "    }\n",
       "\n",
       "    .dataframe thead th {\n",
       "        text-align: right;\n",
       "    }\n",
       "</style>\n",
       "<table border=\"1\" class=\"dataframe\">\n",
       "  <thead>\n",
       "    <tr style=\"text-align: right;\">\n",
       "      <th></th>\n",
       "      <th>txn_id</th>\n",
       "      <th>txn_date</th>\n",
       "      <th>txn_type_cd</th>\n",
       "      <th>amount</th>\n",
       "      <th>teller_emp_id</th>\n",
       "      <th>execution_branch_id</th>\n",
       "      <th>funds_avail_date</th>\n",
       "      <th>trial104</th>\n",
       "    </tr>\n",
       "  </thead>\n",
       "  <tbody>\n",
       "    <tr>\n",
       "      <th>0</th>\n",
       "      <td>-1</td>\n",
       "      <td>-1</td>\n",
       "      <td>-1</td>\n",
       "      <td>-1</td>\n",
       "      <td>-1</td>\n",
       "      <td>-1</td>\n",
       "      <td>-1</td>\n",
       "      <td>-1</td>\n",
       "    </tr>\n",
       "  </tbody>\n",
       "</table>\n",
       "</div>"
      ],
      "text/plain": [
       "   txn_id  txn_date  txn_type_cd  amount  teller_emp_id  execution_branch_id  \\\n",
       "0      -1        -1           -1      -1             -1                   -1   \n",
       "\n",
       "   funds_avail_date  trial104  \n",
       "0                -1        -1  "
      ]
     },
     "execution_count": 6,
     "metadata": {},
     "output_type": "execute_result"
    }
   ],
   "source": [
    "test_transaction_invalid = Transaction(test_conn)\n",
    "test_transaction.retreive_transactions('02','2000')\n"
   ]
  },
  {
   "cell_type": "markdown",
   "id": "01b9b94a",
   "metadata": {},
   "source": [
    "#### Part 5"
   ]
  },
  {
   "cell_type": "code",
   "execution_count": 7,
   "id": "c052ec6b",
   "metadata": {},
   "outputs": [
    {
     "name": "stdout",
     "output_type": "stream",
     "text": [
      "User: Pat successfully connected to bank!\n"
     ]
    },
    {
     "data": {
      "image/png": "[encoded data removed]",
      "text/plain": [
       "<Figure size 640x480 with 1 Axes>"
      ]
     },
     "metadata": {},
     "output_type": "display_data"
    }
   ],
   "source": [
    "manager = DBManager(path)\n",
    "manager.plot_transactions('01','2000')"
   ]
  }
 ],
 "metadata": {
  "kernelspec": {
   "display_name": "DSE5002",
   "language": "python",
   "name": "python3"
  },
  "language_info": {
   "codemirror_mode": {
    "name": "ipython",
    "version": 3
   },
   "file_extension": ".py",
   "mimetype": "text/x-python",
   "name": "python",
   "nbconvert_exporter": "python",
   "pygments_lexer": "ipython3",
   "version": "3.12.3"
  }
 },
 "nbformat": 4,
 "nbformat_minor": 5
}
